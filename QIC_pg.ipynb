{
 "cells": [
  {
   "cell_type": "markdown",
   "metadata": {},
   "source": [
    "### This is the playground to test and develop"
   ]
  },
  {
   "cell_type": "code",
   "execution_count": null,
   "metadata": {},
   "outputs": [],
   "source": [
    "# hey can you read this? what is your name?\n",
    "# yes, I can read this. my name is Assistant.\n",
    "\n",
    "# do you know what this code is supposed to do?\n",
    "# this is supposed to simulate the AKLT using the MPS method and iTEBD and imaginary time.\n",
    "# can we do that?\n",
    "\n",
    "# yes, we can do that. we will use the iTEBD algorithm to simulate the AKLT model in imaginary time.\n",
    "\n",
    "# perfect, let us go through the code step by step and few lines at a time.\n",
    "# sure, let's start with the imports and the initial setup."
   ]
  },
  {
   "cell_type": "code",
   "execution_count": null,
   "metadata": {},
   "outputs": [],
   "source": [
    "import numpy as np\n",
    "import matplotlib.pyplot as plt\n",
    "from scipy.linalg import expm, svd\n",
    "import quimb as qu\n",
    "\n",
    "class IMPS:\n",
    "    def __init__(self, d, chi):\n",
    "\n",
    "        # initializing the dimension of the local hilbert space: spin 1 sites --> d = 3\n",
    "        # initializing the maximum bond dimension chi. 2 is enough for the AKLT model.\n",
    "        # bond dimension is not dynamic and will not change in this code but we can implement that as well.\n",
    "        # we have 2 sites only which are repeated indefinitely. we call them L and R and we initialize them randomly.\n",
    "        # I am considering the L and R as kets here\n",
    "\n",
    "        self.d = d\n",
    "        self.chi = chi\n",
    "        self.spin = (self.d-1)*1/2\n",
    "        self.Sx, self.Sy, self.Sz = self.spin_ops()\n",
    "        self.L = np.random.randn(chi, d, chi) + 1j * np.random.randn(chi, d, chi)\n",
    "        self.R = np.random.randn(chi, d, chi) + 1j * np.random.randn(chi, d, chi)\n",
    "\n",
    "        self.L /= np.linalg.norm(self.L)\n",
    "        self.R /= np.linalg.norm(self.R)\n",
    "        self.U = None\n",
    "\n",
    "    def spin_ops(self):\n",
    "\n",
    "        # spin operators are 3 by 3 matrices here. we import them from quimb.\n",
    "\n",
    "        Sx = qu.spin_operator('x', self.spin)\n",
    "        Sy = qu.spin_operator('y', self.spin)\n",
    "        Sz = qu.spin_operator('z', self.spin)\n",
    "\n",
    "        return Sx, Sy, Sz\n",
    "    \n",
    "    def aklt_2site_hamiltonian(self):\n",
    "        Sx, Sy, Sz = self.Sx, self.Sy, self.Sz\n",
    "        \n",
    "        # we are just doing a tensor product and summing to get the first term in the Hamiltonian\n",
    "        # we could also use np.kron here but this gives us a chance to see how the indices are being manipulated\n",
    "        # look at the first term of the SdotS. note that i and k are kets of the operator Sx for site L and j and l are the bras of the operator Sx for site R\n",
    "        # we put i next to k and j next to l so that we can keep track of how we are contracting them\n",
    "        # the result is a 3 by 3 by 3 by 3 by 3 matrix. reshaping this into a 9 by 9 matrix just gives us Sx_L ⊗ Sx_R\n",
    "\n",
    "        SdotS = (\n",
    "        np.einsum('ij,kl->ikjl', Sx, Sx) +\n",
    "        np.einsum('ij,kl->ikjl', Sy, Sy) +\n",
    "        np.einsum('ij,kl->ikjl', Sz, Sz)\n",
    "        )\n",
    "\n",
    "        SdotS = SdotS.reshape(self.d**2, self.d**2)\n",
    "\n",
    "        # now we need to add the second term to the Hamiltonian.\n",
    "        H = SdotS + 1/3 * SdotS@SdotS\n",
    "\n",
    "\n",
    "        # this is what the hamiltonian should look like, although as a 9 by 9 matrix and not in the MPO form\n",
    "        # we might need to reshape it later, but we can exponentiate rank 2 matrices so we return it as a matrix\n",
    "\n",
    "        return H\n",
    "    \n",
    "    def time_evolution_operator(self, dt, imaginary=True):\n",
    "\n",
    "        # we exponentiate and reshape to get a time evolution operator U which has 4 indices\n",
    "        # the first two are kets corresponding to each site and the last two are bras and can be contracted with the kets\n",
    "\n",
    "        H = self.aklt_2site_hamiltonian()\n",
    "        if imaginary:\n",
    "            U = expm( -dt * H )\n",
    "        else:\n",
    "            U = expm(-1j * dt * H)\n",
    "        return U.reshape(self.d, self.d, self.d, self.d)\n",
    "    \n",
    "    def contract_and_evolve(self, dt, steps):\n",
    "        U = self.time_evolution_operator(dt)\n",
    "        self.U = U\n",
    "        enpb = []\n",
    "\n",
    "\n",
    "        \n",
    "        for _ in range(steps):\n",
    "\n",
    "            # for each step, we contract the L and R over their bond, leaving us with a tensor of shape (chi, d, d, chi)\n",
    "            # this is necessary because the time evoolution operator acts on pairs of neighboring sites\n",
    "            LR = np.einsum('ijk,klm->ijlm', self.L, self.R)\n",
    "\n",
    "\n",
    "            # we then contract this with the time evolution operator U. note that the bras of U __k,l__ are contracted with the kets of LR, also named __k,l__. leaving a,i,j,b untouched\n",
    "            LR = np.einsum('ijkl,aklb->aijb', U, LR)\n",
    "\n",
    "\n",
    "            # in this step we apply svd and truncate with the same chi. this is undoing what we did in the first step.\n",
    "            u, s, v = svd(LR.reshape(self.chi * self.d, self.chi * self.d))\n",
    "\n",
    "            u = u[:, :self.chi]\n",
    "            s = s[:self.chi]\n",
    "            v = v[:self.chi, :]\n",
    "            \n",
    "            sqrt_s = np.diag(np.sqrt(s))\n",
    "            u_combined = u @ sqrt_s\n",
    "            v_combined = sqrt_s @ v\n",
    "\n",
    "            self.L = u_combined.reshape(self.chi, self.d, self.chi)\n",
    "            self.R = v_combined.reshape(self.chi, self.d, self.chi)\n",
    "\n",
    "            # just computing the energy per pair of sites here\n",
    "            enpb.append(self.compute_energy_per_bond(self.aklt_2site_hamiltonian().reshape(self.d, self.d, self.d, self.d)))\n",
    "\n",
    "        return enpb\n",
    "    \n",
    "    def compute_energy_per_bond(self, H):\n",
    "\n",
    "\n",
    "        # this is also a nice example of how np.einsum works.\n",
    "        # we get the LR just like we did before but we call it the ket here\n",
    "        # we get the bra as the conjugate of the ket\n",
    "\n",
    "        ket = np.einsum('iaj,jbk->iabk', self.L, self.R)\n",
    "        bra = np.conj(ket)\n",
    "\n",
    "\n",
    "        # the hamiltonian here is 3 by 3 by 3 by 3 and we need to contract it with the ket and bra. just as we get the expectation value\n",
    "        # the kets of H: ij, the bras of H: kl. so these indices are contracted with the indices of the bra of and the ket respectively which have the same names\n",
    "        # finally we have the a and b which are the bond indices. these indices contract with themselves and we get a scalar\n",
    "\n",
    "\n",
    "        numerator = np.einsum('aijb,ijkl,aklb->',bra, H, ket)\n",
    "        norm = np.einsum('ijab,ijab->', bra, ket)\n",
    "\n",
    "        return np.real(numerator / norm)\n",
    "    \n",
    "\n",
    "\n",
    "\n",
    "\n",
    "if __name__ == \"__main__\":\n",
    "\n",
    "\n",
    "    d = 3\n",
    "    chi = 2 # higher chi makes no difference, chi = 1 messes up the simulation\n",
    "    tau = 0.01\n",
    "    steps = 1500\n",
    "\n",
    "\n",
    "    mps = IMPS(d, chi)\n",
    "    H2 = mps.aklt_2site_hamiltonian()\n",
    "\n",
    "    energies_after_each_step = mps.contract_and_evolve(tau, steps)        "
   ]
  },
  {
   "cell_type": "code",
   "execution_count": 214,
   "metadata": {},
   "outputs": [
    {
     "data": {
      "text/plain": [
       "[<matplotlib.lines.Line2D at 0x7fdd14d060f0>]"
      ]
     },
     "execution_count": 214,
     "metadata": {},
     "output_type": "execute_result"
    },
    {
     "data": {
      "image/png": "[encoded data removed]",
      "text/plain": [
       "<Figure size 640x480 with 1 Axes>"
      ]
     },
     "metadata": {},
     "output_type": "display_data"
    }
   ],
   "source": [
    "plt.plot(energies_after_each_step) #imaginay time gives us the pretty exponential decay"
   ]
  },
  {
   "cell_type": "code",
   "execution_count": 215,
   "metadata": {},
   "outputs": [
    {
     "data": {
      "text/plain": [
       "np.float64(-0.6666308462665643)"
      ]
     },
     "execution_count": 215,
     "metadata": {},
     "output_type": "execute_result"
    }
   ],
   "source": [
    "energies_after_each_step[-1] # this should be the ground state energy per bond afaik. I am not sure about this though."
   ]
  }
 ],
 "metadata": {
  "kernelspec": {
   "display_name": "myenv",
   "language": "python",
   "name": "python3"
  },
  "language_info": {
   "codemirror_mode": {
    "name": "ipython",
    "version": 3
   },
   "file_extension": ".py",
   "mimetype": "text/x-python",
   "name": "python",
   "nbconvert_exporter": "python",
   "pygments_lexer": "ipython3",
   "version": "3.12.3"
  }
 },
 "nbformat": 4,
 "nbformat_minor": 2
}
